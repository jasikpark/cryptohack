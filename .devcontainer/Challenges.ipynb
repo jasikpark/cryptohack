{
 "cells": [
  {
   "cell_type": "code",
   "execution_count": 4,
   "metadata": {},
   "outputs": [
    {
     "data": {
      "text/plain": [
       "b'crypto{3nc0d1n6_4ll_7h3_w4y_d0wn}'"
      ]
     },
     "execution_count": 4,
     "metadata": {},
     "output_type": "execute_result"
    }
   ],
   "source": [
    "from Crypto.Util.number import *\n",
    "\n",
    "long_to_bytes(11515195063862318899931685488813747395775516287289682636499965282714637259206269)"
   ]
  },
  {
   "cell_type": "markdown",
   "metadata": {},
   "source": [
    "XOR Starter"
   ]
  },
  {
   "cell_type": "code",
   "execution_count": 5,
   "metadata": {},
   "outputs": [
    {
     "data": {
      "text/plain": [
       "['a', 'l', 'o', 'h', 'a']"
      ]
     },
     "execution_count": 5,
     "metadata": {},
     "output_type": "execute_result"
    }
   ],
   "source": [
    "def xor(a,b):\n",
    "  return a  ^ b\n",
    "\n",
    "xor(0b0110, 0b1010)\n",
    "\n",
    "text = \"label\"\n",
    "ascii = [ord(c) for c in text]\n",
    "xored = [xor(c,13) for c in ascii]\n",
    "xored_text = [chr(c) for c in xored]\n",
    "xored_text\n"
   ]
  },
  {
   "cell_type": "code",
   "execution_count": 11,
   "metadata": {},
   "outputs": [
    {
     "name": "stdout",
     "output_type": "stream",
     "text": [
      "b'k\\xa7<o\\xae\\xf7\\xdd\\xcf[\\xdbg^\\xed\\xb74\\xdb\\x9d\\xf6\\xeb\\xa6\\xb7\\xf3\\xae\\xdd\\x7f\\x9eZq\\xd7\\xbc\\xeb~^\\xd7\\xd7;\\xdf}w'\n",
      "[180, 16, 96, 0, 193, 129, 14, 178, 68, 178, 200, 42, 154, 249, 234, 162, 80, 141, 144, 208, 66, 128, 9, 161, 10, 57, 167, 144, 26, 69, 156, 249, 99, 0, 10, 97, 58, 144, 41]\n"
     ]
    },
    {
     "ename": "TypeError",
     "evalue": "unsupported operand type(s) for ^: 'list' and 'bytes'",
     "output_type": "error",
     "traceback": [
      "\u001b[0;31m---------------------------------------------------------------------------\u001b[0m",
      "\u001b[0;31mTypeError\u001b[0m                                 Traceback (most recent call last)",
      "\u001b[0;32m/tmp/ipykernel_2152/3446177057.py\u001b[0m in \u001b[0;36m<module>\u001b[0;34m\u001b[0m\n\u001b[1;32m      9\u001b[0m \u001b[0mprint\u001b[0m\u001b[0;34m(\u001b[0m\u001b[0mKEY2\u001b[0m\u001b[0;34m)\u001b[0m\u001b[0;34m\u001b[0m\u001b[0;34m\u001b[0m\u001b[0m\n\u001b[1;32m     10\u001b[0m \u001b[0mKEY2_x_KEY3\u001b[0m \u001b[0;34m=\u001b[0m \u001b[0mbase64\u001b[0m\u001b[0;34m.\u001b[0m\u001b[0mb64decode\u001b[0m\u001b[0;34m(\u001b[0m\u001b[0;34m\"c1545756687e7573db23aa1c3452a098b71a7fbf0fddddde5fc1\"\u001b[0m\u001b[0;34m)\u001b[0m\u001b[0;34m\u001b[0m\u001b[0;34m\u001b[0m\u001b[0m\n\u001b[0;32m---> 11\u001b[0;31m \u001b[0mKEY3\u001b[0m \u001b[0;34m=\u001b[0m \u001b[0mKEY2\u001b[0m \u001b[0;34m^\u001b[0m \u001b[0mKEY2_x_KEY3\u001b[0m\u001b[0;34m\u001b[0m\u001b[0;34m\u001b[0m\u001b[0m\n\u001b[0m\u001b[1;32m     12\u001b[0m \u001b[0mFLAG_x_KEY1_x_KEY3_x_KEY2\u001b[0m \u001b[0;34m=\u001b[0m \u001b[0mbase64\u001b[0m\u001b[0;34m.\u001b[0m\u001b[0mb64decode\u001b[0m\u001b[0;34m(\u001b[0m\u001b[0;34m\"04ee9855208a2cd59091d04767ae47963170d1660df7f56f5faf\"\u001b[0m\u001b[0;34m)\u001b[0m\u001b[0;34m\u001b[0m\u001b[0;34m\u001b[0m\u001b[0m\n\u001b[1;32m     13\u001b[0m \u001b[0mFLAG\u001b[0m \u001b[0;34m=\u001b[0m \u001b[0mKEY1\u001b[0m \u001b[0;34m^\u001b[0m  \u001b[0mKEY2\u001b[0m \u001b[0;34m^\u001b[0m \u001b[0mKEY3\u001b[0m \u001b[0;34m^\u001b[0m \u001b[0mFLAG_x_KEY1_x_KEY3_x_KEY2\u001b[0m\u001b[0;34m\u001b[0m\u001b[0;34m\u001b[0m\u001b[0m\n",
      "\u001b[0;31mTypeError\u001b[0m: unsupported operand type(s) for ^: 'list' and 'bytes'"
     ]
    }
   ],
   "source": [
    "def xor(a,b):\n",
    "    return [x ^ y for x,y in zip(a,b)]\n",
    "\n",
    "import base64\n",
    "KEY1 = base64.b64decode(\"a6c8b6733c9b22de7bc0253266a3867df55acde8635e19c73313\")\n",
    "print(KEY1)\n",
    "KEY2_x_KEY1 = base64.b64decode(\"37dcb292030faa90d07eec17e3b1c6d8daf94c35d4c9191a5e1e\")\n",
    "KEY2 = xor(KEY1,KEY2_x_KEY1)\n",
    "print(KEY2)\n",
    "KEY2_x_KEY3 = base64.b64decode(\"c1545756687e7573db23aa1c3452a098b71a7fbf0fddddde5fc1\")\n",
    "KEY3 = KEY2 ^ KEY2_x_KEY3\n",
    "FLAG_x_KEY1_x_KEY3_x_KEY2 = base64.b64decode(\"04ee9855208a2cd59091d04767ae47963170d1660df7f56f5faf\")\n",
    "FLAG = KEY1 ^  KEY2 ^ KEY3 ^ FLAG_x_KEY1_x_KEY3_x_KEY2\n",
    "FLAG"
   ]
  }
 ],
 "metadata": {
  "interpreter": {
   "hash": "949777d72b0d2535278d3dc13498b2535136f6dfe0678499012e853ee9abcab1"
  },
  "kernelspec": {
   "display_name": "Python 3.10.0 64-bit",
   "language": "python",
   "name": "python3"
  },
  "language_info": {
   "codemirror_mode": {
    "name": "ipython",
    "version": 3
   },
   "file_extension": ".py",
   "mimetype": "text/x-python",
   "name": "python",
   "nbconvert_exporter": "python",
   "pygments_lexer": "ipython3",
   "version": "3.10.0"
  },
  "orig_nbformat": 4
 },
 "nbformat": 4,
 "nbformat_minor": 2
}
